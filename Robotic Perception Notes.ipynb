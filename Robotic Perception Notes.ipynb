{
 "cells": [
  {
   "cell_type": "code",
   "execution_count": 1,
   "metadata": {},
   "outputs": [],
   "source": [
    "import numpy as np"
   ]
  },
  {
   "cell_type": "markdown",
   "metadata": {},
   "source": [
    "### Find out the line defined by two points"
   ]
  },
  {
   "cell_type": "code",
   "execution_count": 2,
   "metadata": {},
   "outputs": [],
   "source": [
    "def get_line_by_two_points(x1, x2):\n",
    "    line = np.cross(x1, x2)\n",
    "    print(\"before sqrt: \", line)\n",
    "    line = line/np.sqrt(line[0]**2 + line[1]**2)\n",
    "    print(\"for the line of equation ax + by + c = 0\")\n",
    "    print(\"a = {}, b = {}, c = {} \".format(line[0], line[1], line[2]))\n",
    "    return line"
   ]
  },
  {
   "cell_type": "code",
   "execution_count": 3,
   "metadata": {},
   "outputs": [],
   "source": [
    "point1 = np.asarray([1, 0, 1])\n",
    "point2 = np.asarray([0, 1, 1])"
   ]
  },
  {
   "cell_type": "code",
   "execution_count": 4,
   "metadata": {},
   "outputs": [
    {
     "name": "stdout",
     "output_type": "stream",
     "text": [
      "('before sqrt: ', array([-1, -1,  1]))\n",
      "for the line of equation ax + by + c = 0\n",
      "a = -0.707106781187, b = -0.707106781187, c = 0.707106781187 \n"
     ]
    },
    {
     "data": {
      "text/plain": [
       "array([-0.70710678, -0.70710678,  0.70710678])"
      ]
     },
     "execution_count": 4,
     "metadata": {},
     "output_type": "execute_result"
    }
   ],
   "source": [
    "get_line_by_two_points(point1, point2)"
   ]
  },
  {
   "cell_type": "markdown",
   "metadata": {},
   "source": [
    "### Find out the intesection of two lines and their equations"
   ]
  },
  {
   "cell_type": "code",
   "execution_count": 51,
   "metadata": {},
   "outputs": [],
   "source": [
    "point1 = np.asarray([218, 16, 1])\n",
    "point2 = np.asarray([42, 141, 1])\n",
    "point3 = np.asarray([347, 94, 1])"
   ]
  },
  {
   "cell_type": "code",
   "execution_count": 53,
   "metadata": {},
   "outputs": [
    {
     "name": "stdout",
     "output_type": "stream",
     "text": [
      "for the line of equation ax + by + c = 0\n",
      "a = -0.579045105368115, b = -0.815295508358306, c = 139.27656110398198 \n",
      "for the line of equation ax + by + c = 0\n",
      "a = -0.5174193389091943, b = 0.8557319835805907, c = 99.10570414491492 \n"
     ]
    }
   ],
   "source": [
    "line1 = get_line_by_two_points(point1, point2)\n",
    "line2 = get_line_by_two_points(point1, point3)"
   ]
  },
  {
   "cell_type": "code",
   "execution_count": 67,
   "metadata": {},
   "outputs": [],
   "source": [
    "ray_of_intersection = np.cross(line1, line2)"
   ]
  },
  {
   "cell_type": "code",
   "execution_count": 68,
   "metadata": {},
   "outputs": [],
   "source": [
    "point_of_intersection = ray_of_intersection/ray_of_intersection[2]"
   ]
  },
  {
   "cell_type": "code",
   "execution_count": 69,
   "metadata": {},
   "outputs": [
    {
     "name": "stdout",
     "output_type": "stream",
     "text": [
      "[218.  16.   1.]\n"
     ]
    }
   ],
   "source": [
    "print(point_of_intersection)"
   ]
  },
  {
   "cell_type": "markdown",
   "metadata": {},
   "source": [
    "#### Finding:<br>\n",
    "The point of intersection will be the same as the the point which we used to find the two intersecting lines"
   ]
  },
  {
   "cell_type": "code",
   "execution_count": 72,
   "metadata": {},
   "outputs": [
    {
     "data": {
      "text/plain": [
       "array([ 1, -1,  2])"
      ]
     },
     "execution_count": 72,
     "metadata": {},
     "output_type": "execute_result"
    }
   ],
   "source": [
    "np.cross([1,1,0], [-1,1,1])"
   ]
  },
  {
   "cell_type": "markdown",
   "metadata": {},
   "source": [
    "### Projective Transformation"
   ]
  },
  {
   "cell_type": "code",
   "execution_count": null,
   "metadata": {},
   "outputs": [],
   "source": []
  }
 ],
 "metadata": {
  "kernelspec": {
   "display_name": "Python 2",
   "language": "python",
   "name": "python2"
  },
  "language_info": {
   "codemirror_mode": {
    "name": "ipython",
    "version": 2
   },
   "file_extension": ".py",
   "mimetype": "text/x-python",
   "name": "python",
   "nbconvert_exporter": "python",
   "pygments_lexer": "ipython2",
   "version": "2.7.15"
  }
 },
 "nbformat": 4,
 "nbformat_minor": 2
}
